{
 "cells": [
  {
   "cell_type": "markdown",
   "metadata": {},
   "source": [
    "# Oizumi Model"
   ]
  },
  {
   "cell_type": "code",
   "execution_count": 1,
   "metadata": {},
   "outputs": [],
   "source": [
    "import numpy as np\n",
    "import scipy.io as sio\n",
    "import matplotlib\n",
    "%matplotlib inline\n",
    "import matplotlib.pyplot as plt\n",
    "from neural import Model\n",
    "from neural.plot import plot_multiple\n",
    "from neural.utils import compute_psth, generate_spike_from_psth, generate_stimulus"
   ]
  },
  {
   "cell_type": "markdown",
   "metadata": {},
   "source": [
    "## Define Oizumi Model"
   ]
  },
  {
   "cell_type": "code",
   "execution_count": 2,
   "metadata": {},
   "outputs": [],
   "source": [
    "class Oizumi(Model):\n",
    "    Default_Inters = {'p': 0., 'NT':0}\n",
    "    Default_States = {'N': (51., 0., 51.), 'g': (0., 0., 1000.)}\n",
    "    Default_Params = {'N0': 51, 'q': 1.07, 'tauO': 10, 'tauN0': 100, 'pmax': 0.79, 'Kpre': 0.0035}\n",
    "    \n",
    "    def ode(self, input=0, f=0.):\n",
    "        \"\"\"\n",
    "        Arguments:\n",
    "            input (bool): spike indicator.\n",
    "            f (float): overall spike rate.\n",
    "        \"\"\"\n",
    "        self.p = self.pmax * np.exp(-self.Kpre * f)\n",
    "        self.d_N = (self.N0 - self.N) / self.tauN0\n",
    "        self.d_g = -self.g / self.tauO\n",
    "        \n",
    "        if input == 1:\n",
    "            self.NT = self.N*self.p\n",
    "            self.g += self.NT*self.q\n",
    "            self.N -= self.NT\n",
    "        else:\n",
    "            self.NT = 0\n",
    "\n",
    "    def get_conductance(self):\n",
    "        return self.g"
   ]
  },
  {
   "cell_type": "markdown",
   "metadata": {},
   "source": [
    "## Simulate Oizumi Model with a Spike Train with Step PSTH\n",
    "\n",
    "We firt synthesize 50 3-second long spike trains that have a PSTH with constant 100 Hz rate between 0.5 and 2.5 second."
   ]
  },
  {
   "cell_type": "code",
   "execution_count": 3,
   "metadata": {},
   "outputs": [],
   "source": [
    "dt  = 1e-4\n",
    "dur = 3.\n",
    "num = 50\n",
    "\n",
    "waveform = generate_stimulus('step', dt, dur-dt/2, (0.5, 2.5), 100.)\n",
    "spikes = generate_spike_from_psth(dt, waveform, num=num)\n",
    "t = np.arange(0, len(waveform)*dt-dt/2, dt)"
   ]
  },
  {
   "cell_type": "markdown",
   "metadata": {},
   "source": [
    "Verify the PSTH of th spike train is indeed a step function at 100 Hz."
   ]
  },
  {
   "cell_type": "code",
   "execution_count": 4,
   "metadata": {},
   "outputs": [
    {
     "data": {
      "image/png": "[encoded data removed]",
      "text/plain": [
       "<matplotlib.figure.Figure at 0x7f1bb95e3a50>"
      ]
     },
     "metadata": {},
     "output_type": "display_data"
    }
   ],
   "source": [
    "rate, bins = compute_psth(spikes, dt, 20e-3, 10e-3)\n",
    "plt.figure(figsize=(6,3))\n",
    "plt.plot(bins, rate)\n",
    "plt.xlabel('Time, [s]')\n",
    "plt.ylabel('Spike Rate')\n",
    "plt.grid()"
   ]
  },
  {
   "cell_type": "markdown",
   "metadata": {},
   "source": [
    "Simulate 50 Oizumi models with the synthesized spike trains."
   ]
  },
  {
   "cell_type": "code",
   "execution_count": null,
   "metadata": {},
   "outputs": [],
   "source": [
    "record = {key:np.zeros((num, len(waveform))) for key in ('p','N','NT','g')}\n",
    "\n",
    "for i, spike in enumerate(spikes):\n",
    "    oizumi = Oizumi()               \n",
    "    for j, (spk, wav) in enumerate(zip(spike, waveform)):\n",
    "        oizumi.update(dt*1e3, input=spk, f=wav)\n",
    "        for key in record:\n",
    "            record[key][i][j] = getattr(oizumi, key)"
   ]
  },
  {
   "cell_type": "markdown",
   "metadata": {},
   "source": [
    "#### Analyze and Plot the Output of the Oizumi Models"
   ]
  },
  {
   "cell_type": "code",
   "execution_count": null,
   "metadata": {},
   "outputs": [],
   "source": [
    "def lpf(dt, sti, freq):\n",
    "    f = np.fft.fft(sti)\n",
    "    df = 1./dt/len(sti)\n",
    "    cut = int(freq//df)\n",
    "    \n",
    "    f[cut+1:-cut] = 0\n",
    "    f *= len(f)*dt\n",
    "    lpf_sti = np.real(np.fft.ifft(f))\n",
    "    return lpf_sti\n",
    "\n",
    "# filter the mean of NT\n",
    "nt_sum = np.sum(record['NT'], axis=0)\n",
    "nt_sum_lpf = lpf(dt, nt_sum, 50)\n",
    "\n",
    "g_mean = np.mean(record['g'], axis=0)"
   ]
  },
  {
   "cell_type": "markdown",
   "metadata": {},
   "source": [
    "Plot the simulation result."
   ]
  },
  {
   "cell_type": "code",
   "execution_count": null,
   "metadata": {},
   "outputs": [],
   "source": [
    "fig, axes = plot_multiple(\n",
    "    t,\n",
    "    (record['p'][0], {'ylabel':'p', 'ylim':(0,1)}),\n",
    "    (record['N'][0], {'ylabel':'N'}),\n",
    "    (record['NT'][0], {'ylabel':'NT','label':'[NT]'},\n",
    "     nt_sum_lpf, {'label':'LPF(NT)', 'color':'b'}),\n",
    "    (record['g'][0], {'ylabel':'g','label':'g'},\n",
    "     g_mean, {'label':'mean(g)', 'color':'b'}),\n",
    "    color='r',\n",
    "    xlim=(0,3),\n",
    "    figw=8,\n",
    "    figh=3\n",
    ")"
   ]
  },
  {
   "cell_type": "code",
   "execution_count": null,
   "metadata": {},
   "outputs": [],
   "source": []
  }
 ],
 "metadata": {
  "anaconda-cloud": {},
  "kernelspec": {
   "display_name": "Python [conda env:nk-neurodriver]",
   "language": "python",
   "name": "conda-env-nk-neurodriver-py"
  },
  "language_info": {
   "codemirror_mode": {
    "name": "ipython",
    "version": 2
   },
   "file_extension": ".py",
   "mimetype": "text/x-python",
   "name": "python",
   "nbconvert_exporter": "python",
   "pygments_lexer": "ipython2",
   "version": "2.7.13"
  }
 },
 "nbformat": 4,
 "nbformat_minor": 2
}
