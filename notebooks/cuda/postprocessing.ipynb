{
 "cells": [
  {
   "cell_type": "markdown",
   "metadata": {},
   "source": [
    "# On-the-fly Code Generation for Postprocessing\n",
    "\n",
    "In this notebook, we demonstrate how to add postprocessing functions to an existing model."
   ]
  },
  {
   "cell_type": "code",
   "execution_count": 1,
   "metadata": {},
   "outputs": [],
   "source": [
    "import sys\n",
    "import difflib\n",
    "import numpy as np\n",
    "\n",
    "sys.path.append('../../neural')\n",
    "\n",
    "from synapse import *\n",
    "from neuron import *\n",
    "from cuda import CudaGenerator"
   ]
  },
  {
   "cell_type": "markdown",
   "metadata": {},
   "source": [
    "## Define a postprocessing function\n",
    "We first generate the CUDA code for the Hodgkin-Huxley model before defining a postprocessing function."
   ]
  },
  {
   "cell_type": "code",
   "execution_count": 2,
   "metadata": {},
   "outputs": [],
   "source": [
    "hh = HodgkinHuxley()\n",
    "code_generator = CudaGenerator(hh)\n",
    "code_generator.generate()"
   ]
  },
  {
   "cell_type": "markdown",
   "metadata": {},
   "source": [
    "Define postprocessing function, and add the function to the Hodgkin-Huxley model. The postprocessing function first detects and counts the spike event."
   ]
  },
  {
   "cell_type": "code",
   "execution_count": 3,
   "metadata": {},
   "outputs": [],
   "source": [
    "def post(self):\n",
    "    self.spike = (self.v1 < self.v2) * (self.v < self.v2) * (self.v > -30.)\n",
    "    self.v1 = self.v2\n",
    "    self.v2 = self.v\n",
    "    self.count += self.spike\n",
    "\n",
    "HodgkinHuxley.post = post\n",
    "HodgkinHuxley.Default_Inters.update({'v1': -65, 'v2': -65, 'count': 0.})"
   ]
  },
  {
   "cell_type": "markdown",
   "metadata": {},
   "source": [
    "Now, generate the CUDA code with the postprocessing function."
   ]
  },
  {
   "cell_type": "code",
   "execution_count": 4,
   "metadata": {},
   "outputs": [],
   "source": [
    "hh1 = HodgkinHuxley()\n",
    "code_generator1 = CudaGenerator(hh1)\n",
    "code_generator1.generate()"
   ]
  },
  {
   "cell_type": "markdown",
   "metadata": {},
   "source": [
    "Compare the difference of the generated CUDA code with and withou the postprocessing function."
   ]
  },
  {
   "cell_type": "code",
   "execution_count": 5,
   "metadata": {},
   "outputs": [
    {
     "name": "stdout",
     "output_type": "stream",
     "text": [
      "--- Without Postprocessing\n",
      "\n",
      "+++ With Postprocessing\n",
      "\n",
      "@@ -23,6 +23,9 @@\n",
      "\n",
      " };\n",
      " \n",
      " struct Inters {\n",
      "+    float count;\n",
      "+    float v1;\n",
      "+    float v2;\n",
      "     float spike;\n",
      " };\n",
      " \n",
      "@@ -88,6 +91,19 @@\n",
      "\n",
      " }\n",
      " \n",
      " \n",
      "+/* post processing */\n",
      "+__device__ int post(\n",
      "+    States &states,\n",
      "+    Inters &inters\n",
      "+)\n",
      "+{\n",
      "+\n",
      "+    inters.spike = (((inters.v1 < inters.v2) * (states.v < inters.v2)) * (states.v > -30.0));\n",
      "+    inters.v1 = inters.v2;\n",
      "+    inters.v2 = states.v;\n",
      "+    inters.count = (inters.count + inters.spike);\n",
      "+    return 0;\n",
      "+}\n",
      " \n",
      " __global__ void HodgkinHuxley (\n",
      "     int num_thread,\n",
      "@@ -96,6 +112,9 @@\n",
      "\n",
      "     float *g_n,\n",
      "     float *g_m,\n",
      "     float *g_v,\n",
      "+    float *g_count,\n",
      "+    float *g_v1,\n",
      "+    float *g_v2,\n",
      "     float *g_spike,\n",
      "     float *g_stimulus\n",
      " )\n",
      "@@ -114,6 +133,9 @@\n",
      "\n",
      "     states.n = g_n[tid];\n",
      "     states.m = g_m[tid];\n",
      "     states.v = g_v[tid];\n",
      "+    inters.count = g_count[tid];\n",
      "+    inters.v1 = g_v1[tid];\n",
      "+    inters.v2 = g_v2[tid];\n",
      "     inters.spike = g_spike[tid];\n",
      "     float stimulus = g_stimulus[tid];\n",
      " \n",
      "@@ -129,12 +151,17 @@\n",
      "\n",
      "     clip(states);\n",
      " \n",
      "     \n",
      "+    /* post processing */\n",
      "+    post(states, inters);\n",
      " \n",
      "     /* export data */\n",
      "     g_h[tid] = states.h;\n",
      "     g_n[tid] = states.n;\n",
      "     g_m[tid] = states.m;\n",
      "     g_v[tid] = states.v;\n",
      "+    g_count[tid] = inters.count;\n",
      "+    g_v1[tid] = inters.v1;\n",
      "+    g_v2[tid] = inters.v2;\n",
      "     g_spike[tid] = inters.spike;\n",
      "     \n",
      " \n"
     ]
    }
   ],
   "source": [
    "lines = difflib.unified_diff(\n",
    "    code_generator.cuda_src.split('\\n'),\n",
    "    code_generator1.cuda_src.split('\\n'),\n",
    "    fromfile='Without Postprocessing',\n",
    "    tofile='With Postprocessing')\n",
    "\n",
    "for line in lines:\n",
    "    print line"
   ]
  },
  {
   "cell_type": "markdown",
   "metadata": {},
   "source": [
    "## Execute the postprocessing function"
   ]
  },
  {
   "cell_type": "code",
   "execution_count": 6,
   "metadata": {},
   "outputs": [],
   "source": [
    "import time\n",
    "\n",
    "import pycuda\n",
    "import pycuda.autoinit\n",
    "import pycuda.driver as cuda\n",
    "import pycuda.gpuarray as garray\n",
    "\n",
    "from utils import generate_stimulus"
   ]
  },
  {
   "cell_type": "markdown",
   "metadata": {},
   "source": [
    "Setup simulation."
   ]
  },
  {
   "cell_type": "code",
   "execution_count": 7,
   "metadata": {},
   "outputs": [],
   "source": [
    "dt  = 5e-5\n",
    "dur = 2.\n",
    "num = 5000\n",
    "amp = 20.\n",
    "dtype = np.float32\n",
    "\n",
    "waveform = generate_stimulus('step', dt, dur-dt/2, (0.5, 1.5), amp, dtype=dtype)\n",
    "t = np.arange(0, len(waveform)*dt-dt/2, dt)\n",
    "scale = np.linspace(0.5, 5., num, dtype=dtype)"
   ]
  },
  {
   "cell_type": "markdown",
   "metadata": {},
   "source": [
    "Generate CUDA code on-the-fly."
   ]
  },
  {
   "cell_type": "code",
   "execution_count": 8,
   "metadata": {},
   "outputs": [],
   "source": [
    "hh1.cuda_prerun(num=num, dtype=dtype)"
   ]
  },
  {
   "cell_type": "markdown",
   "metadata": {},
   "source": [
    "Allocate GPU data."
   ]
  },
  {
   "cell_type": "code",
   "execution_count": 9,
   "metadata": {},
   "outputs": [],
   "source": [
    "V = np.zeros((len(waveform), num), dtype=dtype)\n",
    "d_stim = garray.empty(num, dtype=dtype)"
   ]
  },
  {
   "cell_type": "markdown",
   "metadata": {},
   "source": [
    "Execute the CUDA kernel."
   ]
  },
  {
   "cell_type": "code",
   "execution_count": 10,
   "metadata": {},
   "outputs": [
    {
     "name": "stdout",
     "output_type": "stream",
     "text": [
      "Execution Time: 5.871921\n"
     ]
    }
   ],
   "source": [
    "start = time.time()\n",
    "for i, w in enumerate(waveform):\n",
    "    stimulus = w*scale\n",
    "    cuda.memcpy_htod(d_stim.gpudata, stimulus)\n",
    "    hh1.cuda_update(dt, stimulus=d_stim)\n",
    "    V[i] = hh1.v.get()\n",
    "print(\"Execution Time: %f\" % (time.time() - start))"
   ]
  },
  {
   "cell_type": "code",
   "execution_count": 12,
   "metadata": {},
   "outputs": [
    {
     "data": {
      "image/png": "[encoded data removed]",
      "text/plain": [
       "<matplotlib.figure.Figure at 0x7f11b68fbe50>"
      ]
     },
     "metadata": {},
     "output_type": "display_data"
    }
   ],
   "source": [
    "import matplotlib\n",
    "import matplotlib.pyplot as plt\n",
    "\n",
    "plt.figure(figsize=(12,6))\n",
    "plt.plot(scale*amp, hh1.count.get())\n",
    "plt.grid('On')\n",
    "plt.xlabel('Input Stimulus');\n",
    "plt.ylabel('Spike Rate');\n",
    "plt.title('F-I Curve of the Hodgkin-Huxley Neuron');"
   ]
  }
 ],
 "metadata": {
  "kernelspec": {
   "display_name": "Python [conda env:nk-neurodriver]",
   "language": "python",
   "name": "conda-env-nk-neurodriver-py"
  },
  "language_info": {
   "codemirror_mode": {
    "name": "ipython",
    "version": 2
   },
   "file_extension": ".py",
   "mimetype": "text/x-python",
   "name": "python",
   "nbconvert_exporter": "python",
   "pygments_lexer": "ipython2",
   "version": "2.7.13"
  }
 },
 "nbformat": 4,
 "nbformat_minor": 2
}
