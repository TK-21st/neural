{
 "cells": [
  {
   "cell_type": "markdown",
   "metadata": {},
   "source": [
    "# Grid Search via Generated CUDA Code"
   ]
  },
  {
   "cell_type": "code",
   "execution_count": 1,
   "metadata": {},
   "outputs": [],
   "source": [
    "import sys\n",
    "sys.path.append('../../../neural/neural')\n",
    "\n",
    "import matplotlib\n",
    "import matplotlib.pyplot as plt\n",
    "\n",
    "import numpy as np\n",
    "import pycuda\n",
    "import pycuda.autoinit\n",
    "\n",
    "from basemodel import Model"
   ]
  },
  {
   "cell_type": "markdown",
   "metadata": {},
   "source": [
    "### Define An Arbitrary Model\n",
    "\n",
    "First, we define an arbitrary model, called `FOO`, with one state variable $x$ and two parameters $a$ and $b4. The dynamic of the model is given below,\n",
    "\n",
    "<p align=\"center\">$\\frac{dx}{dt} = 2a(1+u)^2 - exp(b^{1.2}u^{1.2})$,</p>\n",
    "\n",
    "where $u$ is the input stimulus."
   ]
  },
  {
   "cell_type": "code",
   "execution_count": 2,
   "metadata": {},
   "outputs": [],
   "source": [
    "class FOO(Model):\n",
    "    Default_States = {'x': 0.}\n",
    "    Default_Params = {'a': 2., 'b': 2.} \n",
    "    \n",
    "    def ode(self, stimulus=0):\n",
    "        self.d_x = self.a*2.*(1.+stimulus)**(1.2)-np.exp((self.b*stimulus)**1.2)\n"
   ]
  },
  {
   "cell_type": "markdown",
   "metadata": {},
   "source": [
    "We then create an instance of the model with randomly generated value for `a` and `b`."
   ]
  },
  {
   "cell_type": "code",
   "execution_count": 3,
   "metadata": {},
   "outputs": [],
   "source": [
    "ran_a, ran_b = np.random.rand(2)*2+2\n",
    "foo = FOO(a=ran_a, b=ran_b)"
   ]
  },
  {
   "cell_type": "markdown",
   "metadata": {},
   "source": [
    "### Simulate the Model\n",
    "We simulate the model instance with a ramp stimulus, and plot the stimulus and the state variable $x^*$ as functions of time. Note that the simulation is executed on CPU."
   ]
  },
  {
   "cell_type": "code",
   "execution_count": 4,
   "metadata": {},
   "outputs": [],
   "source": [
    "dt = 1e-4\n",
    "t = np.arange(0., 2., dt)\n",
    "dtype = np.float64\n",
    "stimulus = np.linspace(0., 1., len(t), dtype=dtype)\n",
    "x = np.zeros_like(stimulus)\n",
    "\n",
    "for i, s in enumerate(stimulus):\n",
    "    foo.update(dt, stimulus=s)\n",
    "    x[i] = foo.x"
   ]
  },
  {
   "cell_type": "code",
   "execution_count": 5,
   "metadata": {},
   "outputs": [
    {
     "data": {
      "image/png": "[encoded data removed]",
      "text/plain": [
       "<matplotlib.figure.Figure at 0x7fd573ddf910>"
      ]
     },
     "metadata": {},
     "output_type": "display_data"
    }
   ],
   "source": [
    "fig, axes = plt.subplots(2,1,figsize=(8,6))\n",
    "axes[0].plot(t,stimulus); axes[0].set_ylabel('Input Stimulus')\n",
    "axes[1].plot(t,x); axes[1].set_ylabel('State Variable x')\n",
    "for ax in axes:\n",
    "    ax.grid('on')\n",
    "axes[1].set_xlabel('Time');"
   ]
  },
  {
   "cell_type": "markdown",
   "metadata": {},
   "source": [
    "### Grid Search with Generated CUDA Kernel\n",
    "\n",
    "We apply the grid search to find out the value for $a$ and $b$ used in the above simulation, given that $x^*$ trace is known. We extend the model definition with an intermediate variable `cost`, and a postprocessing function `post()`. The postprocessing function compute the running square error between the state variable `x` and $x^*$. "
   ]
  },
  {
   "cell_type": "code",
   "execution_count": 6,
   "metadata": {},
   "outputs": [],
   "source": [
    "def post(self, x_truth=0.):\n",
    "    self.cost += (x_truth - self.x) **2\n",
    "\n",
    "FOO.Default_Inters = {'cost': 0.}\n",
    "FOO.post = post"
   ]
  },
  {
   "cell_type": "markdown",
   "metadata": {},
   "source": [
    "We set up a grid of 1001-by-1001 points of $(a,b)$, uniformly distributed between $[2,4]\\times[2,4]$."
   ]
  },
  {
   "cell_type": "code",
   "execution_count": 7,
   "metadata": {},
   "outputs": [],
   "source": [
    "arr = np.linspace(2, 4., 1001)\n",
    "a_grid, b_grid = np.meshgrid(arr, arr)\n",
    "num = a_grid.size"
   ]
  },
  {
   "cell_type": "markdown",
   "metadata": {},
   "source": [
    "We then simulate $1001^2$ instances of the model, each of which is set up with a unique pair of $(a,b)$."
   ]
  },
  {
   "cell_type": "code",
   "execution_count": 8,
   "metadata": {},
   "outputs": [],
   "source": [
    "foo_grid = FOO()\n",
    "foo_grid.cuda_prerun(dtype=dtype, num=num,\n",
    "    stimulus=stimulus[0], x_truth=x[0],\n",
    "    a=a_grid.flatten(), b=b_grid.flatten())\n",
    "\n",
    "for i, (s,d) in enumerate(zip(stimulus, x)):\n",
    "    foo_grid.cuda_update(dt, stimulus=s, x_truth=d)\n",
    "cost = foo_grid.cost.get().reshape(a_grid.shape)"
   ]
  },
  {
   "cell_type": "markdown",
   "metadata": {},
   "source": [
    "Finally, we find out the value of $(a, b)$ that has the lowest cost."
   ]
  },
  {
   "cell_type": "code",
   "execution_count": 9,
   "metadata": {},
   "outputs": [
    {
     "name": "stdout",
     "output_type": "stream",
     "text": [
      "Parameter a - Ground Truth: 2.007837, Estimated Value: 2.008000\n",
      "Parameter b - Ground Truth: 3.407913, Estimated Value: 3.408000\n"
     ]
    }
   ],
   "source": [
    "est_a = a_grid.flatten()[np.argmin(cost)]\n",
    "est_b = b_grid.flatten()[np.argmin(cost)]\n",
    "\n",
    "print \"Parameter a - Ground Truth: %f, Estimated Value: %f\" % (ran_a, est_a)\n",
    "print \"Parameter b - Ground Truth: %f, Estimated Value: %f\" % (ran_b, est_b)"
   ]
  }
 ],
 "metadata": {
  "kernelspec": {
   "display_name": "Python [conda env:nk-neurodriver]",
   "language": "python",
   "name": "conda-env-nk-neurodriver-py"
  },
  "language_info": {
   "codemirror_mode": {
    "name": "ipython",
    "version": 2
   },
   "file_extension": ".py",
   "mimetype": "text/x-python",
   "name": "python",
   "nbconvert_exporter": "python",
   "pygments_lexer": "ipython2",
   "version": "2.7.13"
  }
 },
 "nbformat": 4,
 "nbformat_minor": 2
}
